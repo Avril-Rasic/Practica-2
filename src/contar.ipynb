{
 "cells": [
  {
   "cell_type": "code",
   "execution_count": 1,
   "id": "769961e9-7c35-4434-8603-5a993357806d",
   "metadata": {},
   "outputs": [],
   "source": [
    "def contar_rondas (rounds):\n",
    "    final = {}\n",
    "    for round in rounds: \n",
    "        for personaje, datos in round.items():\n",
    "            if personaje not in final: \n",
    "                final[personaje] = {'kills': 0, 'assists': 0,'deaths': 0}\n",
    "            final[personaje]['kills'] += datos['kills']\n",
    "            final[personaje]['assists'] += datos['assists']\n",
    "            if datos['deaths'] == True: \n",
    "                final[personaje]['deaths'] += datos['deaths']\n",
    "    return final"
   ]
  }
 ],
 "metadata": {
  "kernelspec": {
   "display_name": "Python 3",
   "language": "python",
   "name": "python3"
  },
  "language_info": {
   "codemirror_mode": {
    "name": "ipython",
    "version": 3
   },
   "file_extension": ".py",
   "mimetype": "text/x-python",
   "name": "python",
   "nbconvert_exporter": "python",
   "pygments_lexer": "ipython3",
   "version": "3.12.9"
  }
 },
 "nbformat": 4,
 "nbformat_minor": 5
}
