{
 "cells": [
  {
   "cell_type": "code",
   "execution_count": 1,
   "metadata": {},
   "outputs": [],
   "source": [
    "import sys\n",
    "import os\n",
    "\n",
    "sys.path.append(os.path.abspath(\"../\"))"
   ]
  },
  {
   "cell_type": "code",
   "execution_count": 2,
   "metadata": {},
   "outputs": [
    {
     "name": "stdout",
     "output_type": "stream",
     "text": [
      "Resultado ronda 1\n",
      "|Personaje|Kills|Assists|Deaths|Mvp|Puntos|\n",
      "|Shadow   |2    |1      |1     |1  |6     \n",
      "|Blaze    |1    |0      |0     |0  |3     \n",
      "|Viper    |1    |2      |1     |0  |4     \n",
      "|Frost    |0    |1      |0     |0  |1     \n",
      "|Reaper   |1    |1      |0     |0  |4     \n",
      "\n",
      "Resultado ronda 2\n",
      "|Personaje|Kills|Assists|Deaths|Mvp|Puntos|\n",
      "|Shadow   |2    |3      |1     |2  |8     \n",
      "|Blaze    |3    |0      |1     |0  |8     \n",
      "|Viper    |2    |3      |1     |0  |8     \n",
      "|Frost    |2    |2      |1     |0  |7     \n",
      "|Reaper   |1    |2      |0     |0  |5     \n",
      "\n",
      "Resultado ronda 3\n",
      "|Personaje|Kills|Assists|Deaths|Mvp|Puntos|\n",
      "|Shadow   |3    |3      |1     |2  |11    \n",
      "|Blaze    |5    |2      |2     |1  |15    \n",
      "|Viper    |3    |4      |2     |0  |11    \n",
      "|Frost    |2    |3      |1     |0  |8     \n",
      "|Reaper   |2    |3      |0     |0  |9     \n",
      "\n",
      "Resultado ronda 4\n",
      "|Personaje|Kills|Assists|Deaths|Mvp|Puntos|\n",
      "|Shadow   |5    |4      |1     |3  |18    \n",
      "|Blaze    |6    |2      |3     |1  |17    \n",
      "|Viper    |3    |6      |2     |0  |13    \n",
      "|Frost    |3    |4      |2     |0  |11    \n",
      "|Reaper   |3    |4      |0     |0  |13    \n",
      "\n",
      "Resultado ronda 5\n",
      "|Personaje|Kills|Assists|Deaths|Mvp|Puntos|\n",
      "|Shadow   |6    |6      |2     |4  |22    \n",
      "|Blaze    |6    |3      |3     |1  |18    \n",
      "|Viper    |5    |6      |3     |0  |18    \n",
      "|Frost    |4    |5      |2     |0  |15    \n",
      "|Reaper   |4    |5      |1     |0  |16    \n",
      "\n"
     ]
    }
   ],
   "source": [
    "from src.contar import contar_rondas\n",
    "\n",
    "rounds = [\n",
    "{\n",
    "'Shadow': {'kills': 2, 'assists': 1, 'deaths': True},\n",
    "'Blaze': {'kills': 1, 'assists': 0, 'deaths': False},\n",
    "'Viper': {'kills': 1, 'assists': 2, 'deaths': True},\n",
    "'Frost': {'kills': 0, 'assists': 1, 'deaths': False},\n",
    "'Reaper': {'kills': 1, 'assists': 1, 'deaths': False}\n",
    "},\n",
    "{\n",
    "'Shadow': {'kills': 0, 'assists': 2, 'deaths': False},\n",
    "'Blaze': {'kills': 2, 'assists': 0, 'deaths': True},\n",
    "'Viper': {'kills': 1, 'assists': 1, 'deaths': False},\n",
    "'Frost': {'kills': 2, 'assists': 1, 'deaths': True},\n",
    "'Reaper': {'kills': 0, 'assists': 1, 'deaths': False}\n",
    "},\n",
    "{\n",
    "'Shadow': {'kills': 1, 'assists': 0, 'deaths': False},\n",
    "'Blaze': {'kills': 2, 'assists': 2, 'deaths': True},\n",
    "'Viper': {'kills': 1, 'assists': 1, 'deaths': True},\n",
    "'Frost': {'kills': 0, 'assists': 1, 'deaths': False},\n",
    "'Reaper': {'kills': 1, 'assists': 1, 'deaths': False}\n",
    "},\n",
    "{\n",
    "'Shadow': {'kills': 2, 'assists': 1, 'deaths': False},\n",
    "'Blaze': {'kills': 1, 'assists': 0, 'deaths': True},\n",
    "'Viper': {'kills': 0, 'assists': 2, 'deaths': False},\n",
    "'Frost': {'kills': 1, 'assists': 1, 'deaths': True},\n",
    "'Reaper': {'kills': 1, 'assists': 1, 'deaths': False}\n",
    "},\n",
    "{\n",
    "'Shadow': {'kills': 1, 'assists': 2, 'deaths': True},\n",
    "'Blaze': {'kills': 0, 'assists': 1, 'deaths': False},\n",
    "'Viper': {'kills': 2, 'assists': 0, 'deaths': True},\n",
    "'Frost': {'kills': 1, 'assists': 1, 'deaths': False},\n",
    "'Reaper': {'kills': 1, 'assists': 1, 'deaths': True}\n",
    "}\n",
    "]\n",
    "final = contar_rondas(rounds)"
   ]
  }
 ],
 "metadata": {
  "kernelspec": {
   "display_name": "venv",
   "language": "python",
   "name": "python3"
  },
  "language_info": {
   "codemirror_mode": {
    "name": "ipython",
    "version": 3
   },
   "file_extension": ".py",
   "mimetype": "text/x-python",
   "name": "python",
   "nbconvert_exporter": "python",
   "pygments_lexer": "ipython3",
   "version": "3.12.9"
  }
 },
 "nbformat": 4,
 "nbformat_minor": 2
}
